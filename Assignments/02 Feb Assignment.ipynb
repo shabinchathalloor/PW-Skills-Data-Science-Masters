{
 "cells": [
  {
   "cell_type": "markdown",
   "id": "3cef5731-02af-4bb5-81e3-6971b53574da",
   "metadata": {},
   "source": [
    "### PW Skills Assignment 02 FEB"
   ]
  },
  {
   "cell_type": "markdown",
   "id": "cf7a2636-7584-4f06-bb98-de62636002e8",
   "metadata": {},
   "source": [
    "##### 1. What are the characteristics of Tuples? Is tuple immutable?"
   ]
  },
  {
   "cell_type": "markdown",
   "id": "a8ea0b01-7ab3-42a1-8072-ef4f97a64165",
   "metadata": {},
   "source": [
    "Tuples is one of the built in datatypes in python. It used to store collection of elements. A tuple is a collection which is ordered and unchangeable.\n",
    "\n",
    "Tuples are Immutable sequences. Direct change operations can not be applied to tuples"
   ]
  },
  {
   "cell_type": "markdown",
   "id": "b6cf2afd-5244-4d4c-90b4-9cccee1ebdbb",
   "metadata": {},
   "source": [
    "Characteristics:\n",
    "    1. Tuples are immutable.\n",
    "    2. Fixed Amount of Data.\n",
    "    3. Used to perform memory intensive tasks.\n",
    "    4. Tuple can contain hetrogeneous values."
   ]
  },
  {
   "cell_type": "markdown",
   "id": "d31b8dd9-26a0-426b-8f36-03219d09c8f9",
   "metadata": {},
   "source": [
    "##### 2. What are the two tuple methods in python? Give an example of each method. Give a reason why tuples have only two in-built methods as compared to Lists"
   ]
  },
  {
   "cell_type": "markdown",
   "id": "ff4bc0c3-f3ff-4ed8-83e5-55f04bd41163",
   "metadata": {},
   "source": [
    "Two tuple methods are:\n",
    "    1. Count():\n",
    "        Returns the number of times a specified value occures in a tuple\n",
    "    2. index() :\n",
    "        Searches the tuple for a specified value and returs the position of where it was       found"
   ]
  },
  {
   "cell_type": "markdown",
   "id": "f4791fce-203a-413f-b1b8-b03b30af3088",
   "metadata": {},
   "source": [
    "Tuple has only two in built function because tuples are immutable. Means you cannot change values in a tuple once it is assigned"
   ]
  },
  {
   "cell_type": "markdown",
   "id": "3860a717-44d9-4e6e-ad31-e84ad34e0949",
   "metadata": {},
   "source": [
    "##### 3. Which collection datatypes in python do not allow duplicate items? Write a code using a set to remove duplicates from the given list.\n",
    "\n",
    "##### List = [1, 1, 1, 2, 1, 3, 1, 4, 2, 1, 2, 2, 2, 3, 2, 4, 3, 1, 3, 2, 3, 3, 3, 4, 4, 1, 4, 2, 4, 3, 4, 4 ]"
   ]
  },
  {
   "cell_type": "code",
   "execution_count": 1,
   "id": "3b2384eb-e20b-472a-a102-d477dae70bf1",
   "metadata": {},
   "outputs": [],
   "source": [
    "List = [1, 1, 1, 2, 1, 3, 1, 4, 2, 1, 2, 2, 2, 3, 2, 4, 3, 1, 3, 2, 3, 3, 3, 4, 4, 1, 4, 2, 4, 3, 4, 4]"
   ]
  },
  {
   "cell_type": "code",
   "execution_count": 3,
   "id": "482df828-e7c6-408f-8999-2d9393938cfc",
   "metadata": {},
   "outputs": [],
   "source": [
    "set1= set(List)"
   ]
  },
  {
   "cell_type": "code",
   "execution_count": 4,
   "id": "88a472ff-404d-495d-bc36-3e1a8354678c",
   "metadata": {},
   "outputs": [
    {
     "data": {
      "text/plain": [
       "{1, 2, 3, 4}"
      ]
     },
     "execution_count": 4,
     "metadata": {},
     "output_type": "execute_result"
    }
   ],
   "source": [
    "set1"
   ]
  },
  {
   "cell_type": "markdown",
   "id": "87be2e86-34c7-4f2c-9163-c963f96c6c32",
   "metadata": {},
   "source": [
    "##### 4.  Explain the difference between the union() and update() methods for a set. Give an example of each method."
   ]
  },
  {
   "cell_type": "markdown",
   "id": "e23e8d56-971a-4191-97eb-6388772e650f",
   "metadata": {},
   "source": [
    "Union() : Union of two or more sets is the set which contains all the distinct elements present in all the sets"
   ]
  },
  {
   "cell_type": "code",
   "execution_count": 5,
   "id": "a5c7c502-db13-41bb-ac3d-e016f2d19898",
   "metadata": {},
   "outputs": [],
   "source": [
    "a = {1,2,3,4,5}\n",
    "b = {5,6,7,8,9}"
   ]
  },
  {
   "cell_type": "code",
   "execution_count": 6,
   "id": "5186407f-b5cd-457e-ad87-6eca8922a152",
   "metadata": {},
   "outputs": [
    {
     "data": {
      "text/plain": [
       "{1, 2, 3, 4, 5, 6, 7, 8, 9}"
      ]
     },
     "execution_count": 6,
     "metadata": {},
     "output_type": "execute_result"
    }
   ],
   "source": [
    "a.union(b)"
   ]
  },
  {
   "cell_type": "markdown",
   "id": "95cbcba5-8f3b-4c0e-a663-1809fae037f4",
   "metadata": {},
   "source": [
    "Update() : It used to return the union of a set of elements from one or more iterables like string,list...Update() method updates the set in which this method is called with all the distinct elements present in all the iterables"
   ]
  },
  {
   "cell_type": "code",
   "execution_count": 15,
   "id": "947c0dc7-5784-4204-9f6f-a3a6cbc396de",
   "metadata": {},
   "outputs": [],
   "source": [
    "c = {1,2,3,4}\n",
    "d = {11,22,33}"
   ]
  },
  {
   "cell_type": "code",
   "execution_count": 18,
   "id": "59933028-c599-4389-8bd1-daed3a950812",
   "metadata": {},
   "outputs": [],
   "source": [
    "c.update(d)"
   ]
  },
  {
   "cell_type": "code",
   "execution_count": 19,
   "id": "82bcbab3-99b6-4db5-96c8-f8efd0b85299",
   "metadata": {},
   "outputs": [
    {
     "data": {
      "text/plain": [
       "{1, 2, 3, 4, 11, 22, 33}"
      ]
     },
     "execution_count": 19,
     "metadata": {},
     "output_type": "execute_result"
    }
   ],
   "source": [
    "c"
   ]
  },
  {
   "cell_type": "markdown",
   "id": "56d49469-3bff-448b-b3a8-3b71c617b6b4",
   "metadata": {},
   "source": [
    "##### 5. What is a dictionary? Give an example. Also, state whether a dictionary is ordered or unordered."
   ]
  },
  {
   "cell_type": "markdown",
   "id": "0d46bc8f-053f-4d3f-aa5f-c45963c13789",
   "metadata": {},
   "source": [
    "###### Dictionary : "
   ]
  },
  {
   "cell_type": "markdown",
   "id": "f87b983e-ce17-4fe0-bf43-baaffe7ac628",
   "metadata": {},
   "source": [
    "Dictionary are used to store data values in key:value pairs. A dictionary is a collection which is ordered, changeable and do not allow duplicates"
   ]
  },
  {
   "cell_type": "code",
   "execution_count": 20,
   "id": "8af886d7-e7b6-4fd0-9f36-cc791d6a737d",
   "metadata": {},
   "outputs": [],
   "source": [
    "dict1 = {\"brand\" : \"Ford\",\n",
    "        \"model\" : \"Figo\",\n",
    "        \"year\" : \"2023\"}"
   ]
  },
  {
   "cell_type": "code",
   "execution_count": 21,
   "id": "d8907abd-4d11-4002-862a-bf9d15032a57",
   "metadata": {},
   "outputs": [
    {
     "data": {
      "text/plain": [
       "{'brand': 'Ford', 'model': 'Figo', 'year': '2023'}"
      ]
     },
     "execution_count": 21,
     "metadata": {},
     "output_type": "execute_result"
    }
   ],
   "source": [
    "dict1"
   ]
  },
  {
   "cell_type": "code",
   "execution_count": 22,
   "id": "080d40ac-c133-4021-88d9-d1beb70d61d6",
   "metadata": {},
   "outputs": [
    {
     "data": {
      "text/plain": [
       "dict"
      ]
     },
     "execution_count": 22,
     "metadata": {},
     "output_type": "execute_result"
    }
   ],
   "source": [
    "type(dict1)"
   ]
  },
  {
   "cell_type": "markdown",
   "id": "23ad980c-899e-4b51-9425-fc741f010f2e",
   "metadata": {},
   "source": [
    "As per python 3.7 dictionaries are ordered. When we say that dictionaries are ordered, it means that the items have a defined order, and that order will not change"
   ]
  },
  {
   "cell_type": "markdown",
   "id": "34f19857-fc97-4959-8337-6696671cf4f0",
   "metadata": {},
   "source": [
    "##### 6.  Can we create a nested dictionary? If so, please give an example by creating a simple one-level nested dictionary"
   ]
  },
  {
   "cell_type": "markdown",
   "id": "3f922294-234d-4519-ae04-18dde9d006e7",
   "metadata": {},
   "source": [
    "Yes we can create nested dictionary in python"
   ]
  },
  {
   "cell_type": "code",
   "execution_count": 23,
   "id": "113d86f3-0cd1-4f53-8992-73615b053b55",
   "metadata": {},
   "outputs": [],
   "source": [
    "cars = {1: {\"brand\": \"maruthi\", \"model\":\"baleno\"},\n",
    "       2:{\"brand\": \"Toyota\", \"model\":\"innova\"}}"
   ]
  },
  {
   "cell_type": "code",
   "execution_count": 24,
   "id": "73db0df1-fe21-4544-b3a2-a468a0703290",
   "metadata": {},
   "outputs": [
    {
     "data": {
      "text/plain": [
       "{1: {'brand': 'maruthi', 'model': 'baleno'},\n",
       " 2: {'brand': 'Toyota', 'model': 'innova'}}"
      ]
     },
     "execution_count": 24,
     "metadata": {},
     "output_type": "execute_result"
    }
   ],
   "source": [
    "cars"
   ]
  },
  {
   "cell_type": "code",
   "execution_count": 25,
   "id": "85535fed-5461-4294-85d0-04e58754ebe4",
   "metadata": {},
   "outputs": [
    {
     "data": {
      "text/plain": [
       "dict"
      ]
     },
     "execution_count": 25,
     "metadata": {},
     "output_type": "execute_result"
    }
   ],
   "source": [
    "type(cars)"
   ]
  },
  {
   "cell_type": "markdown",
   "id": "cf205b7a-9ed5-45bf-bde2-0e59ad576e72",
   "metadata": {},
   "source": [
    "##### 7.  Using setdefault() method, create key named topics in the given dictionary and also add the value of the key as this list ['Python', 'Machine Learning’, 'Deep Learning']"
   ]
  },
  {
   "cell_type": "markdown",
   "id": "4041e05e-1bea-4d06-a648-7fe2062a92ad",
   "metadata": {},
   "source": [
    "##### dict1 = {'language' : 'Python', 'course': 'Data Science Masters'}"
   ]
  },
  {
   "cell_type": "code",
   "execution_count": 27,
   "id": "53fa5913-3aff-4020-846a-49d4e76d817f",
   "metadata": {},
   "outputs": [],
   "source": [
    "dict1 = {'language' : 'Python', 'course': 'Data Science Masters'}"
   ]
  },
  {
   "cell_type": "code",
   "execution_count": 28,
   "id": "c2019a40-0556-40e5-a26e-c342d615fde9",
   "metadata": {},
   "outputs": [
    {
     "data": {
      "text/plain": [
       "['Python', 'Machine Learning', 'Deep Learning']"
      ]
     },
     "execution_count": 28,
     "metadata": {},
     "output_type": "execute_result"
    }
   ],
   "source": [
    "# Using setdefault() to create the key 'topics' and set its value\n",
    "dict1.setdefault('topics', ['Python', 'Machine Learning', 'Deep Learning'])"
   ]
  },
  {
   "cell_type": "code",
   "execution_count": 29,
   "id": "2233a22d-9b08-4988-94a3-d2045b0bbf07",
   "metadata": {},
   "outputs": [
    {
     "data": {
      "text/plain": [
       "{'language': 'Python',\n",
       " 'course': 'Data Science Masters',\n",
       " 'topics': ['Python', 'Machine Learning', 'Deep Learning']}"
      ]
     },
     "execution_count": 29,
     "metadata": {},
     "output_type": "execute_result"
    }
   ],
   "source": [
    "dict1"
   ]
  },
  {
   "cell_type": "markdown",
   "id": "8b578628-bf6a-4d4b-b3bf-4c3ef920b823",
   "metadata": {},
   "source": [
    "##### 8. What are the three view objects in dictionaries? Use the three in-built methods in python to display these three view objects for the given dictionary"
   ]
  },
  {
   "cell_type": "markdown",
   "id": "3850adf4-21ca-4b53-bb26-65da936947c7",
   "metadata": {},
   "source": [
    "###### dict1 = {'Sport': 'Cricket' , 'Teams': ['India', 'Australia', 'England', 'South Africa', 'Sri Lanka', 'New Zealand']}"
   ]
  },
  {
   "cell_type": "markdown",
   "id": "c27c0429-7b13-4cb7-8af0-c0f640540f61",
   "metadata": {},
   "source": [
    "The three view objects in Python are"
   ]
  },
  {
   "cell_type": "markdown",
   "id": "043c3480-001d-48f5-9788-a0a15f18239d",
   "metadata": {},
   "source": [
    "1. dict.keys(): This view object returns a dynamic view of the dictionary's keys.\n",
    "\n",
    "2. dict.values(): This view object returns a dynamic view of the dictionary's values.\n",
    "\n",
    "3. dict.items(): This view object returns a dynamic view of the dictionary's key-value pairs as tuples."
   ]
  },
  {
   "cell_type": "code",
   "execution_count": 30,
   "id": "86443213-e925-4d92-b16e-8710764c6574",
   "metadata": {},
   "outputs": [],
   "source": [
    "dict2 = {'Sport': 'Cricket' , 'Teams': ['India', 'Australia', 'England', 'South Africa', 'Sri Lanka', 'New Zealand']}"
   ]
  },
  {
   "cell_type": "code",
   "execution_count": 31,
   "id": "5e4725d6-b557-4686-8e92-4786cea124d0",
   "metadata": {},
   "outputs": [
    {
     "data": {
      "text/plain": [
       "{'Sport': 'Cricket',\n",
       " 'Teams': ['India',\n",
       "  'Australia',\n",
       "  'England',\n",
       "  'South Africa',\n",
       "  'Sri Lanka',\n",
       "  'New Zealand']}"
      ]
     },
     "execution_count": 31,
     "metadata": {},
     "output_type": "execute_result"
    }
   ],
   "source": [
    "dict2"
   ]
  },
  {
   "cell_type": "code",
   "execution_count": 35,
   "id": "3b1f1513-40a5-4c1d-a630-089f32329d5b",
   "metadata": {},
   "outputs": [
    {
     "data": {
      "text/plain": [
       "dict_keys(['Sport', 'Teams'])"
      ]
     },
     "execution_count": 35,
     "metadata": {},
     "output_type": "execute_result"
    }
   ],
   "source": [
    "dict2.keys()"
   ]
  },
  {
   "cell_type": "code",
   "execution_count": 36,
   "id": "43b65e6c-b6e2-498b-bc19-3250f9f0e746",
   "metadata": {},
   "outputs": [
    {
     "data": {
      "text/plain": [
       "dict_values(['Cricket', ['India', 'Australia', 'England', 'South Africa', 'Sri Lanka', 'New Zealand']])"
      ]
     },
     "execution_count": 36,
     "metadata": {},
     "output_type": "execute_result"
    }
   ],
   "source": [
    "dict2.values()"
   ]
  },
  {
   "cell_type": "code",
   "execution_count": 37,
   "id": "a2963824-6489-4c8a-ba00-40d7fe47f266",
   "metadata": {},
   "outputs": [
    {
     "data": {
      "text/plain": [
       "dict_items([('Sport', 'Cricket'), ('Teams', ['India', 'Australia', 'England', 'South Africa', 'Sri Lanka', 'New Zealand'])])"
      ]
     },
     "execution_count": 37,
     "metadata": {},
     "output_type": "execute_result"
    }
   ],
   "source": [
    "dict2.items()"
   ]
  },
  {
   "cell_type": "code",
   "execution_count": null,
   "id": "2436f00f-ce6d-476a-a7d2-3086eb258f86",
   "metadata": {},
   "outputs": [],
   "source": []
  }
 ],
 "metadata": {
  "kernelspec": {
   "display_name": "Python 3 (ipykernel)",
   "language": "python",
   "name": "python3"
  },
  "language_info": {
   "codemirror_mode": {
    "name": "ipython",
    "version": 3
   },
   "file_extension": ".py",
   "mimetype": "text/x-python",
   "name": "python",
   "nbconvert_exporter": "python",
   "pygments_lexer": "ipython3",
   "version": "3.10.8"
  }
 },
 "nbformat": 4,
 "nbformat_minor": 5
}
