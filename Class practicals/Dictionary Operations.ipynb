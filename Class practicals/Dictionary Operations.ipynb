{
 "cells": [
  {
   "cell_type": "markdown",
   "id": "177e9e32-1df2-4dad-814e-f14d996c9241",
   "metadata": {},
   "source": [
    "# Dictionary"
   ]
  },
  {
   "cell_type": "code",
   "execution_count": 1,
   "id": "6eaba188-a418-4ce5-9689-f78303e6f6c0",
   "metadata": {},
   "outputs": [],
   "source": [
    "d={}"
   ]
  },
  {
   "cell_type": "code",
   "execution_count": 2,
   "id": "9bb04d2d-3dc3-45a5-b4fe-3f98acf4b405",
   "metadata": {},
   "outputs": [
    {
     "data": {
      "text/plain": [
       "dict"
      ]
     },
     "execution_count": 2,
     "metadata": {},
     "output_type": "execute_result"
    }
   ],
   "source": [
    "type(d)"
   ]
  },
  {
   "cell_type": "markdown",
   "id": "f1bd42fc-f932-4bee-9c81-d500b9fc1ca7",
   "metadata": {},
   "source": [
    " Values are stored like key value pair"
   ]
  },
  {
   "cell_type": "code",
   "execution_count": 4,
   "id": "087382c8-730a-4a89-a48d-a67b6e539009",
   "metadata": {},
   "outputs": [],
   "source": [
    "d1={\"name\": \"shabin\",\n",
    "    \"email_id\": \"shabin@gmail.com\",\n",
    "   \"number\": 54842}"
   ]
  },
  {
   "cell_type": "code",
   "execution_count": 5,
   "id": "f63ff551-b531-4a76-9965-ef1d041ec0a1",
   "metadata": {},
   "outputs": [
    {
     "data": {
      "text/plain": [
       "{'name': 'shabin', 'email_id': 'shabin@gmail.com', 'number': 54842}"
      ]
     },
     "execution_count": 5,
     "metadata": {},
     "output_type": "execute_result"
    }
   ],
   "source": [
    "d1"
   ]
  },
  {
   "cell_type": "code",
   "execution_count": 7,
   "id": "65f7e2e7-e547-4ec7-b8ab-d5d426fa2c98",
   "metadata": {},
   "outputs": [
    {
     "data": {
      "text/plain": [
       "{'name': 'shan'}"
      ]
     },
     "execution_count": 7,
     "metadata": {},
     "output_type": "execute_result"
    }
   ],
   "source": [
    "d2={\"name\":\"sdh\",\"name\":\"shan\"}\n",
    "d2"
   ]
  },
  {
   "cell_type": "markdown",
   "id": "375e9206-4a29-4e4c-af3d-7f511ec08d5c",
   "metadata": {},
   "source": [
    "it shows only second key value pair because the reason is in a dictionary the key value should be unique. Also key can be any values"
   ]
  },
  {
   "cell_type": "code",
   "execution_count": 8,
   "id": "47d40c5b-7e53-41f1-9a3b-57d81c89a278",
   "metadata": {},
   "outputs": [],
   "source": [
    "d3={1542:\"shabin\",\n",
    "   \"car\":1960,\n",
    "   234.5:\"Float\",\n",
    "   True:\"Bool\"}"
   ]
  },
  {
   "cell_type": "code",
   "execution_count": 9,
   "id": "4701bc8e-bfab-44a1-9d76-4b00a2c81cfb",
   "metadata": {},
   "outputs": [
    {
     "data": {
      "text/plain": [
       "{1542: 'shabin', 'car': 1960, 234.5: 'Float', True: 'Bool'}"
      ]
     },
     "execution_count": 9,
     "metadata": {},
     "output_type": "execute_result"
    }
   ],
   "source": [
    "d3"
   ]
  },
  {
   "cell_type": "code",
   "execution_count": 10,
   "id": "f1e67a4f-d157-4336-81a6-b7681102ef1f",
   "metadata": {},
   "outputs": [
    {
     "ename": "SyntaxError",
     "evalue": "incomplete input (3772417109.py, line 1)",
     "output_type": "error",
     "traceback": [
      "\u001b[0;36m  Cell \u001b[0;32mIn[10], line 1\u001b[0;36m\u001b[0m\n\u001b[0;31m    d4={#:\"abc\"}\u001b[0m\n\u001b[0m                ^\u001b[0m\n\u001b[0;31mSyntaxError\u001b[0m\u001b[0;31m:\u001b[0m incomplete input\n"
     ]
    }
   ],
   "source": [
    "d4={#:\"abc\"}  "
   ]
  },
  {
   "cell_type": "markdown",
   "id": "418fc9e1-f809-4e0c-b9ea-68d4d1ddd6af",
   "metadata": {},
   "source": [
    "Special case not allowed as a key."
   ]
  },
  {
   "cell_type": "code",
   "execution_count": 11,
   "id": "40b81853-b93a-40f9-b9f3-765691affd0a",
   "metadata": {},
   "outputs": [
    {
     "ename": "TypeError",
     "evalue": "unhashable type: 'list'",
     "output_type": "error",
     "traceback": [
      "\u001b[0;31m---------------------------------------------------------------------------\u001b[0m",
      "\u001b[0;31mTypeError\u001b[0m                                 Traceback (most recent call last)",
      "Cell \u001b[0;32mIn[11], line 1\u001b[0m\n\u001b[0;32m----> 1\u001b[0m d5\u001b[38;5;241m=\u001b[39m{[\u001b[38;5;241m1\u001b[39m,\u001b[38;5;241m2\u001b[39m,\u001b[38;5;241m3\u001b[39m]:\u001b[38;5;124m\"\u001b[39m\u001b[38;5;124m123\u001b[39m\u001b[38;5;124m\"\u001b[39m}\n",
      "\u001b[0;31mTypeError\u001b[0m: unhashable type: 'list'"
     ]
    }
   ],
   "source": [
    "d5={[1,2,3]:\"123\"}"
   ]
  },
  {
   "cell_type": "markdown",
   "id": "c04d336e-4e9f-4401-8539-34c043e0111f",
   "metadata": {},
   "source": [
    "List not allowed as Key (Unhashable type)"
   ]
  },
  {
   "cell_type": "code",
   "execution_count": 13,
   "id": "b3bcc684-ee3d-4236-ade2-6862175319da",
   "metadata": {},
   "outputs": [
    {
     "data": {
      "text/plain": [
       "{(1, 2, 3): '123'}"
      ]
     },
     "execution_count": 13,
     "metadata": {},
     "output_type": "execute_result"
    }
   ],
   "source": [
    "d6={(1,2,3):\"123\"}  #Tuples can behave as key.\n",
    "d6"
   ]
  },
  {
   "cell_type": "code",
   "execution_count": 14,
   "id": "2813b807-ffb9-4c0f-9aa1-3b357b7aa2c2",
   "metadata": {},
   "outputs": [
    {
     "ename": "TypeError",
     "evalue": "unhashable type: 'set'",
     "output_type": "error",
     "traceback": [
      "\u001b[0;31m---------------------------------------------------------------------------\u001b[0m",
      "\u001b[0;31mTypeError\u001b[0m                                 Traceback (most recent call last)",
      "Cell \u001b[0;32mIn[14], line 1\u001b[0m\n\u001b[0;32m----> 1\u001b[0m d7\u001b[38;5;241m=\u001b[39m{{\u001b[38;5;241m1\u001b[39m,\u001b[38;5;241m2\u001b[39m,\u001b[38;5;241m3\u001b[39m}:\u001b[38;5;124m\"\u001b[39m\u001b[38;5;124m123\u001b[39m\u001b[38;5;124m\"\u001b[39m}\n",
      "\u001b[0;31mTypeError\u001b[0m: unhashable type: 'set'"
     ]
    }
   ],
   "source": [
    "d7={{1,2,3}:\"123\"} #Dictionary not allowed\n"
   ]
  },
  {
   "cell_type": "code",
   "execution_count": 16,
   "id": "d71749ed-7574-4bbe-a04a-f6c15363e913",
   "metadata": {},
   "outputs": [
    {
     "data": {
      "text/plain": [
       "{'cars': ['alto', 'WagonR', 'Baleno', 'Etios']}"
      ]
     },
     "execution_count": 16,
     "metadata": {},
     "output_type": "execute_result"
    }
   ],
   "source": [
    "d8={\"cars\":[\"alto\",\"WagonR\",\"Baleno\",\"Etios\"]}\n",
    "d8"
   ]
  },
  {
   "cell_type": "code",
   "execution_count": 18,
   "id": "9bcf09ef-bafe-47de-927d-f04059b95c90",
   "metadata": {},
   "outputs": [
    {
     "data": {
      "text/plain": [
       "{'cars': ('alto', 'WagonR', 'Baleno', 'Etios')}"
      ]
     },
     "execution_count": 18,
     "metadata": {},
     "output_type": "execute_result"
    }
   ],
   "source": [
    "d9={\"cars\":(\"alto\",\"WagonR\",\"Baleno\",\"Etios\")}\n",
    "d9"
   ]
  },
  {
   "cell_type": "code",
   "execution_count": 19,
   "id": "2382bdc2-53a4-4f00-8d12-a3eef0dd226a",
   "metadata": {},
   "outputs": [],
   "source": [
    "d10={\"key\":{1,2,3}}"
   ]
  },
  {
   "cell_type": "markdown",
   "id": "8bc1d6be-61a4-4726-9115-b8f05de87b3b",
   "metadata": {},
   "source": [
    "We can take it value as Tuple,List,Set"
   ]
  },
  {
   "cell_type": "markdown",
   "id": "2da6773e-0361-49ca-ad5e-2b4a5744caf1",
   "metadata": {},
   "source": [
    "### Nested Dictionary"
   ]
  },
  {
   "cell_type": "code",
   "execution_count": 20,
   "id": "28e52f30-8386-48f2-aac8-7725a1968b3a",
   "metadata": {},
   "outputs": [],
   "source": [
    "d11={\"key\":{\"car\":\"alto\",\"phone\":123}} "
   ]
  },
  {
   "cell_type": "code",
   "execution_count": 21,
   "id": "a423a724-091e-4761-843c-1550ffd249a1",
   "metadata": {},
   "outputs": [
    {
     "data": {
      "text/plain": [
       "{'key': {'car': 'alto', 'phone': 123}}"
      ]
     },
     "execution_count": 21,
     "metadata": {},
     "output_type": "execute_result"
    }
   ],
   "source": [
    "d11"
   ]
  },
  {
   "cell_type": "code",
   "execution_count": 22,
   "id": "3f0b8f1a-9923-4a3d-8524-0a89aa16bc6b",
   "metadata": {},
   "outputs": [],
   "source": [
    "d12={\"Batch_name\":[\"datasciecne\",'biology','Physics'],\n",
    "    'Start_date':(28,14,21),\n",
    "    'mentor':{'sudhanshu','krish'}}"
   ]
  },
  {
   "cell_type": "code",
   "execution_count": 23,
   "id": "59d701d4-87b9-4388-8028-eb5ff5493e10",
   "metadata": {},
   "outputs": [
    {
     "data": {
      "text/plain": [
       "{'Batch_name': ['datasciecne', 'biology', 'Physics'],\n",
       " 'Start_date': (28, 14, 21),\n",
       " 'mentor': {'krish', 'sudhanshu'}}"
      ]
     },
     "execution_count": 23,
     "metadata": {},
     "output_type": "execute_result"
    }
   ],
   "source": [
    "d12"
   ]
  },
  {
   "cell_type": "markdown",
   "id": "54efbff3-474a-4590-9816-41c71a26ffed",
   "metadata": {},
   "source": [
    "value is accepted in all form of collections"
   ]
  },
  {
   "cell_type": "code",
   "execution_count": 30,
   "id": "e5c5c959-af41-4e42-8941-956691bacf01",
   "metadata": {},
   "outputs": [],
   "source": [
    "#Adding new key value to dictionary\n",
    "d12['timing']=(8,8,8)"
   ]
  },
  {
   "cell_type": "code",
   "execution_count": 31,
   "id": "befacac7-8448-462d-a41a-f5b3acd03e46",
   "metadata": {},
   "outputs": [
    {
     "data": {
      "text/plain": [
       "{'Batch_name': ['datasciecne', 'biology', 'Physics'],\n",
       " 'Start_date': (28, 14, 21),\n",
       " 'mentor': {'krish', 'sudhanshu'},\n",
       " 'timing': (8, 8, 8)}"
      ]
     },
     "execution_count": 31,
     "metadata": {},
     "output_type": "execute_result"
    }
   ],
   "source": [
    "d12"
   ]
  },
  {
   "cell_type": "code",
   "execution_count": 33,
   "id": "9d6c33e7-5283-4cd2-8a26-2bba872bdd34",
   "metadata": {},
   "outputs": [
    {
     "data": {
      "text/plain": [
       "['datasciecne', 'biology', 'Physics']"
      ]
     },
     "execution_count": 33,
     "metadata": {},
     "output_type": "execute_result"
    }
   ],
   "source": [
    "d12['Batch_name']"
   ]
  },
  {
   "cell_type": "code",
   "execution_count": 34,
   "id": "57fb88a7-22fb-4106-88d7-66e2f2e6c2f6",
   "metadata": {},
   "outputs": [],
   "source": [
    "d12['name']='shabin'"
   ]
  },
  {
   "cell_type": "code",
   "execution_count": 35,
   "id": "73f91c44-6c1b-4c3f-b6b2-a8a6162b8965",
   "metadata": {},
   "outputs": [
    {
     "data": {
      "text/plain": [
       "{'Batch_name': ['datasciecne', 'biology', 'Physics'],\n",
       " 'Start_date': (28, 14, 21),\n",
       " 'mentor': {'krish', 'sudhanshu'},\n",
       " 'timing': (8, 8, 8),\n",
       " 'name': 'shabin'}"
      ]
     },
     "execution_count": 35,
     "metadata": {},
     "output_type": "execute_result"
    }
   ],
   "source": [
    "d12"
   ]
  },
  {
   "cell_type": "code",
   "execution_count": 37,
   "id": "64d0ee57-ca72-4fd5-a6b2-1e36a2b521f9",
   "metadata": {},
   "outputs": [
    {
     "data": {
      "text/plain": [
       "'shabin'"
      ]
     },
     "execution_count": 37,
     "metadata": {},
     "output_type": "execute_result"
    }
   ],
   "source": [
    "d12['name']"
   ]
  },
  {
   "cell_type": "code",
   "execution_count": 38,
   "id": "06e718c9-4652-4f26-97dc-b4205a24d898",
   "metadata": {},
   "outputs": [
    {
     "data": {
      "text/plain": [
       "'SHABIN'"
      ]
     },
     "execution_count": 38,
     "metadata": {},
     "output_type": "execute_result"
    }
   ],
   "source": [
    "d12['name'].upper()"
   ]
  },
  {
   "cell_type": "code",
   "execution_count": 39,
   "id": "b427f5f3-158e-48ed-863b-c2fae0b424b1",
   "metadata": {},
   "outputs": [
    {
     "data": {
      "text/plain": [
       "{'key': {'car': 'alto', 'phone': 123}}"
      ]
     },
     "execution_count": 39,
     "metadata": {},
     "output_type": "execute_result"
    }
   ],
   "source": [
    " d11"
   ]
  },
  {
   "cell_type": "code",
   "execution_count": 42,
   "id": "7d35d220-362f-4622-ba16-0f935e71d122",
   "metadata": {},
   "outputs": [
    {
     "data": {
      "text/plain": [
       "{'car': 'alto', 'phone': 123}"
      ]
     },
     "execution_count": 42,
     "metadata": {},
     "output_type": "execute_result"
    }
   ],
   "source": [
    "# Fetching data from a nested dictionary\n",
    "d11['key']"
   ]
  },
  {
   "cell_type": "code",
   "execution_count": 43,
   "id": "c346c970-a992-4f3c-8213-e7876722e677",
   "metadata": {},
   "outputs": [
    {
     "data": {
      "text/plain": [
       "123"
      ]
     },
     "execution_count": 43,
     "metadata": {},
     "output_type": "execute_result"
    }
   ],
   "source": [
    "d11['key']['phone']"
   ]
  },
  {
   "cell_type": "code",
   "execution_count": 44,
   "id": "23a12228-8815-4b54-be31-da5567e3457e",
   "metadata": {},
   "outputs": [],
   "source": [
    "d11['key1']='abc'"
   ]
  },
  {
   "cell_type": "code",
   "execution_count": 45,
   "id": "8897e07a-147c-4462-b8c3-0e34c4a466ce",
   "metadata": {},
   "outputs": [
    {
     "data": {
      "text/plain": [
       "{'key': {'car': 'alto', 'phone': 123}, 'key1': 'abc'}"
      ]
     },
     "execution_count": 45,
     "metadata": {},
     "output_type": "execute_result"
    }
   ],
   "source": [
    "d11"
   ]
  },
  {
   "cell_type": "code",
   "execution_count": 46,
   "id": "ae33e426-71ca-4ae8-acb2-0683fbc028d9",
   "metadata": {},
   "outputs": [],
   "source": [
    "# deleting a value from a dictionary\n",
    "del d11['key1']"
   ]
  },
  {
   "cell_type": "code",
   "execution_count": 47,
   "id": "7cb3d3e4-bae8-4b3d-803d-d2ca45ee8309",
   "metadata": {},
   "outputs": [
    {
     "data": {
      "text/plain": [
       "{'key': {'car': 'alto', 'phone': 123}}"
      ]
     },
     "execution_count": 47,
     "metadata": {},
     "output_type": "execute_result"
    }
   ],
   "source": [
    "d11"
   ]
  },
  {
   "cell_type": "code",
   "execution_count": 49,
   "id": "3c800051-0d84-4a72-8285-114b5ec9251e",
   "metadata": {},
   "outputs": [],
   "source": [
    "d11.clear() ##wiping out all the data"
   ]
  },
  {
   "cell_type": "code",
   "execution_count": 50,
   "id": "d6805769-0c5c-4953-b496-bdebce3ec9f1",
   "metadata": {},
   "outputs": [
    {
     "data": {
      "text/plain": [
       "{}"
      ]
     },
     "execution_count": 50,
     "metadata": {},
     "output_type": "execute_result"
    }
   ],
   "source": [
    "d11"
   ]
  },
  {
   "cell_type": "code",
   "execution_count": 52,
   "id": "d9dd691d-d135-4752-ac60-054b8ecca534",
   "metadata": {},
   "outputs": [
    {
     "data": {
      "text/plain": [
       "5"
      ]
     },
     "execution_count": 52,
     "metadata": {},
     "output_type": "execute_result"
    }
   ],
   "source": [
    "len(d12)"
   ]
  },
  {
   "cell_type": "code",
   "execution_count": 53,
   "id": "edb80db8-0474-4534-89ee-39980d4f31d3",
   "metadata": {},
   "outputs": [
    {
     "data": {
      "text/plain": [
       "dict_keys(['Batch_name', 'Start_date', 'mentor', 'timing', 'name'])"
      ]
     },
     "execution_count": 53,
     "metadata": {},
     "output_type": "execute_result"
    }
   ],
   "source": [
    "# Extracting all the keys\n",
    "d12.keys()"
   ]
  },
  {
   "cell_type": "code",
   "execution_count": 54,
   "id": "4d3bda76-ef2c-4998-a2c8-e69c5dc4a86b",
   "metadata": {},
   "outputs": [
    {
     "data": {
      "text/plain": [
       "dict_values([['datasciecne', 'biology', 'Physics'], (28, 14, 21), {'krish', 'sudhanshu'}, (8, 8, 8), 'shabin'])"
      ]
     },
     "execution_count": 54,
     "metadata": {},
     "output_type": "execute_result"
    }
   ],
   "source": [
    "#Extracting all the values\n",
    "d12.values()"
   ]
  },
  {
   "cell_type": "code",
   "execution_count": 55,
   "id": "aaba18fb-94cf-45f6-bd4c-cda95f165834",
   "metadata": {},
   "outputs": [
    {
     "data": {
      "text/plain": [
       "dict_items([('Batch_name', ['datasciecne', 'biology', 'Physics']), ('Start_date', (28, 14, 21)), ('mentor', {'krish', 'sudhanshu'}), ('timing', (8, 8, 8)), ('name', 'shabin')])"
      ]
     },
     "execution_count": 55,
     "metadata": {},
     "output_type": "execute_result"
    }
   ],
   "source": [
    "d12.items()"
   ]
  },
  {
   "cell_type": "code",
   "execution_count": 56,
   "id": "e96341da-e62e-45ee-9574-1ebf7a246c37",
   "metadata": {},
   "outputs": [
    {
     "data": {
      "text/plain": [
       "[('Batch_name', ['datasciecne', 'biology', 'Physics']),\n",
       " ('Start_date', (28, 14, 21)),\n",
       " ('mentor', {'krish', 'sudhanshu'}),\n",
       " ('timing', (8, 8, 8)),\n",
       " ('name', 'shabin')]"
      ]
     },
     "execution_count": 56,
     "metadata": {},
     "output_type": "execute_result"
    }
   ],
   "source": [
    "list(d12.items()) #Converted into list"
   ]
  },
  {
   "cell_type": "code",
   "execution_count": 57,
   "id": "9d313a66-061e-46ce-a638-627be21b8126",
   "metadata": {},
   "outputs": [
    {
     "data": {
      "text/plain": [
       "{'Batch_name': ['datasciecne', 'biology', 'Physics'],\n",
       " 'Start_date': (28, 14, 21),\n",
       " 'mentor': {'krish', 'sudhanshu'},\n",
       " 'timing': (8, 8, 8),\n",
       " 'name': 'shabin'}"
      ]
     },
     "execution_count": 57,
     "metadata": {},
     "output_type": "execute_result"
    }
   ],
   "source": [
    "d12"
   ]
  },
  {
   "cell_type": "code",
   "execution_count": 58,
   "id": "8d3a6ffd-8ca2-4081-8cb0-99dc25c2f3df",
   "metadata": {},
   "outputs": [],
   "source": [
    "d13=d12.copy() #Duplication (deep copy)"
   ]
  },
  {
   "cell_type": "code",
   "execution_count": 59,
   "id": "98d69951-6c99-413e-9d89-123e33b35429",
   "metadata": {},
   "outputs": [
    {
     "data": {
      "text/plain": [
       "{'Batch_name': ['datasciecne', 'biology', 'Physics'],\n",
       " 'Start_date': (28, 14, 21),\n",
       " 'mentor': {'krish', 'sudhanshu'},\n",
       " 'timing': (8, 8, 8),\n",
       " 'name': 'shabin'}"
      ]
     },
     "execution_count": 59,
     "metadata": {},
     "output_type": "execute_result"
    }
   ],
   "source": [
    "d13"
   ]
  },
  {
   "cell_type": "code",
   "execution_count": 60,
   "id": "87bea3a5-3870-470b-aa0f-3a98b1a11deb",
   "metadata": {},
   "outputs": [],
   "source": [
    "d14=d13 #shallow copy"
   ]
  },
  {
   "cell_type": "code",
   "execution_count": 61,
   "id": "32a7814a-a914-4e2a-880b-6cb2a9252c6a",
   "metadata": {},
   "outputs": [
    {
     "data": {
      "text/plain": [
       "{'Batch_name': ['datasciecne', 'biology', 'Physics'],\n",
       " 'Start_date': (28, 14, 21),\n",
       " 'mentor': {'krish', 'sudhanshu'},\n",
       " 'timing': (8, 8, 8),\n",
       " 'name': 'shabin'}"
      ]
     },
     "execution_count": 61,
     "metadata": {},
     "output_type": "execute_result"
    }
   ],
   "source": [
    "d14"
   ]
  },
  {
   "cell_type": "code",
   "execution_count": 62,
   "id": "3e69b8f9-1cbd-423a-83e5-ebcd5c227c7a",
   "metadata": {},
   "outputs": [
    {
     "data": {
      "text/plain": [
       "{1: ('a', 'b', 'c'), 2: ('a', 'b', 'c'), 3: ('a', 'b', 'c')}"
      ]
     },
     "execution_count": 62,
     "metadata": {},
     "output_type": "execute_result"
    }
   ],
   "source": [
    "d.fromkeys((1,2,3),('a','b','c'))"
   ]
  },
  {
   "cell_type": "code",
   "execution_count": 65,
   "id": "1e8d48bd-043a-4624-9b51-99754a77a69c",
   "metadata": {},
   "outputs": [],
   "source": [
    "d15={'value':'key','value1':'key1'}\n",
    "d16={'value3':'key3','value4':'key4'}"
   ]
  },
  {
   "cell_type": "code",
   "execution_count": 66,
   "id": "7d002330-7cd6-4516-aca0-a82d30320544",
   "metadata": {},
   "outputs": [
    {
     "data": {
      "text/plain": [
       "({'value': 'key', 'value1': 'key1'}, {'value3': 'key3', 'value4': 'key4'})"
      ]
     },
     "execution_count": 66,
     "metadata": {},
     "output_type": "execute_result"
    }
   ],
   "source": [
    "(d15,d16)"
   ]
  },
  {
   "cell_type": "code",
   "execution_count": 68,
   "id": "b4efef60-93c8-43d1-9dfe-3a795991ba54",
   "metadata": {},
   "outputs": [],
   "source": [
    "d15.update(d16)"
   ]
  },
  {
   "cell_type": "code",
   "execution_count": 69,
   "id": "a12abede-8185-4902-a064-4440fc2c182a",
   "metadata": {},
   "outputs": [
    {
     "data": {
      "text/plain": [
       "{'value': 'key', 'value1': 'key1', 'value3': 'key3', 'value4': 'key4'}"
      ]
     },
     "execution_count": 69,
     "metadata": {},
     "output_type": "execute_result"
    }
   ],
   "source": [
    "d15"
   ]
  },
  {
   "cell_type": "code",
   "execution_count": 70,
   "id": "885454aa-5d01-40c5-9ded-96e92b36b1a6",
   "metadata": {},
   "outputs": [
    {
     "data": {
      "text/plain": [
       "{'value3': 'key3', 'value4': 'key4'}"
      ]
     },
     "execution_count": 70,
     "metadata": {},
     "output_type": "execute_result"
    }
   ],
   "source": [
    "d16"
   ]
  },
  {
   "cell_type": "code",
   "execution_count": 72,
   "id": "2d4aefc6-0b50-4d7d-a3d1-8e51bf253a4d",
   "metadata": {},
   "outputs": [
    {
     "data": {
      "text/plain": [
       "{'value3': 'key3', 'value4': 'key4', 'value': 'key', 'value1': 'key1'}"
      ]
     },
     "execution_count": 72,
     "metadata": {},
     "output_type": "execute_result"
    }
   ],
   "source": [
    "d16.update(d15)\n",
    "d16"
   ]
  },
  {
   "cell_type": "code",
   "execution_count": 75,
   "id": "3c6c1e00-167d-4d08-a31b-4dc1187f02f5",
   "metadata": {},
   "outputs": [
    {
     "data": {
      "text/plain": [
       "'key3'"
      ]
     },
     "execution_count": 75,
     "metadata": {},
     "output_type": "execute_result"
    }
   ],
   "source": [
    "d16.get('value3')"
   ]
  },
  {
   "cell_type": "markdown",
   "id": "c8e71f5d-b81d-485f-9250-e72a8377507c",
   "metadata": {},
   "source": [
    "#### Dictionary Comprehensions"
   ]
  },
  {
   "cell_type": "code",
   "execution_count": 76,
   "id": "8b07585c-bcc1-4c6f-af5b-2405781b5512",
   "metadata": {},
   "outputs": [
    {
     "data": {
      "text/plain": [
       "{1: 1, 2: 4, 3: 9, 4: 16, 5: 25, 6: 36, 7: 49, 8: 64, 9: 81, 10: 100}"
      ]
     },
     "execution_count": 76,
     "metadata": {},
     "output_type": "execute_result"
    }
   ],
   "source": [
    "{i:i**2 for i in range(1,11)}"
   ]
  },
  {
   "cell_type": "code",
   "execution_count": 77,
   "id": "d3112be8-7a57-41aa-befb-133b6b5188d7",
   "metadata": {},
   "outputs": [
    {
     "data": {
      "text/plain": [
       "{1: 11, 2: 12, 3: 13, 4: 14, 5: 15, 6: 16, 7: 17, 8: 18, 9: 19, 10: 20}"
      ]
     },
     "execution_count": 77,
     "metadata": {},
     "output_type": "execute_result"
    }
   ],
   "source": [
    "{i:i+10 for i in range(1,11)}"
   ]
  },
  {
   "cell_type": "code",
   "execution_count": 79,
   "id": "1067dc87-988a-4a68-a8de-b8d8e54563f7",
   "metadata": {},
   "outputs": [],
   "source": [
    "import math\n",
    "d17={i:math.log10(i) for i in range(1,11)}"
   ]
  },
  {
   "cell_type": "code",
   "execution_count": 80,
   "id": "3b19a868-2c9b-43be-9dc3-2bae626347e0",
   "metadata": {},
   "outputs": [
    {
     "data": {
      "text/plain": [
       "{1: 0.0,\n",
       " 2: 0.3010299956639812,\n",
       " 3: 0.47712125471966244,\n",
       " 4: 0.6020599913279624,\n",
       " 5: 0.6989700043360189,\n",
       " 6: 0.7781512503836436,\n",
       " 7: 0.8450980400142568,\n",
       " 8: 0.9030899869919435,\n",
       " 9: 0.9542425094393249,\n",
       " 10: 1.0}"
      ]
     },
     "execution_count": 80,
     "metadata": {},
     "output_type": "execute_result"
    }
   ],
   "source": [
    "d17"
   ]
  },
  {
   "cell_type": "code",
   "execution_count": 82,
   "id": "736d773e-217a-4109-8cf2-d693b1fb0bb1",
   "metadata": {},
   "outputs": [
    {
     "name": "stdout",
     "output_type": "stream",
     "text": [
      "0.3010299956639812\n",
      "0.6020599913279624\n",
      "0.7781512503836436\n",
      "0.9030899869919435\n",
      "1.0\n"
     ]
    }
   ],
   "source": [
    "for i in d17.keys():\n",
    "    if i % 2== 0:\n",
    "        print(d17[i])\n",
    "        "
   ]
  },
  {
   "cell_type": "code",
   "execution_count": 83,
   "id": "7f1c1c61-84ea-44c3-8547-b27ee4278ad9",
   "metadata": {},
   "outputs": [
    {
     "name": "stdout",
     "output_type": "stream",
     "text": [
      "(100, 100)\n"
     ]
    }
   ],
   "source": [
    "atuple=(100,)\n",
    "print(atuple * 2)"
   ]
  },
  {
   "cell_type": "code",
   "execution_count": 84,
   "id": "024a6764-b5d4-4778-99f5-196fea1ed7f2",
   "metadata": {},
   "outputs": [
    {
     "name": "stdout",
     "output_type": "stream",
     "text": [
      "None\n"
     ]
    }
   ],
   "source": [
    "dict1 = {\"name\": \"Mike\", \"salary\": 8000}\n",
    "\n",
    "temp = dict1.get(\"age\")\n",
    "\n",
    "print(temp)"
   ]
  },
  {
   "cell_type": "code",
   "execution_count": 85,
   "id": "db5c2a91-4af9-46a5-9e38-eef91799b6ec",
   "metadata": {},
   "outputs": [
    {
     "name": "stdout",
     "output_type": "stream",
     "text": [
      "True\n"
     ]
    }
   ],
   "source": [
    "dict1 = {\"key1\":1, \"key2\":2}\n",
    "\n",
    "dict2 = {\"key2\":2, \"key1\":1}\n",
    "\n",
    "print(dict1 == dict2)"
   ]
  },
  {
   "cell_type": "code",
   "execution_count": null,
   "id": "55ae1837-78b0-43aa-9c99-fe7dfd2a07ff",
   "metadata": {},
   "outputs": [],
   "source": []
  }
 ],
 "metadata": {
  "kernelspec": {
   "display_name": "Python 3 (ipykernel)",
   "language": "python",
   "name": "python3"
  },
  "language_info": {
   "codemirror_mode": {
    "name": "ipython",
    "version": 3
   },
   "file_extension": ".py",
   "mimetype": "text/x-python",
   "name": "python",
   "nbconvert_exporter": "python",
   "pygments_lexer": "ipython3",
   "version": "3.10.8"
  }
 },
 "nbformat": 4,
 "nbformat_minor": 5
}
