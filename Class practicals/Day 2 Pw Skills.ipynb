{
 "cells": [
  {
   "cell_type": "code",
   "execution_count": 1,
   "id": "3856457a-a094-43e8-8a2e-87149ae62427",
   "metadata": {},
   "outputs": [
    {
     "name": "stdout",
     "output_type": "stream",
     "text": [
      "Hello world\n"
     ]
    }
   ],
   "source": [
    "print(\"Hello world\")"
   ]
  },
  {
   "cell_type": "code",
   "execution_count": 2,
   "id": "abdd2a4d-d308-4141-83da-68082a323288",
   "metadata": {},
   "outputs": [
    {
     "name": "stdout",
     "output_type": "stream",
     "text": [
      "My age is: 32\n"
     ]
    }
   ],
   "source": [
    "age=32\n",
    "print(\"My age is:\", age)"
   ]
  },
  {
   "cell_type": "code",
   "execution_count": 3,
   "id": "d9dfbd7f-b297-4eae-9d29-9fdfb2e20c95",
   "metadata": {},
   "outputs": [
    {
     "name": "stdout",
     "output_type": "stream",
     "text": [
      "My age is:32\n"
     ]
    }
   ],
   "source": [
    "## F string\n",
    "print(f\"My age is:{age}\")"
   ]
  },
  {
   "cell_type": "code",
   "execution_count": 5,
   "id": "e68478b8-3c80-4c01-8d75-c821c1d90493",
   "metadata": {},
   "outputs": [
    {
     "name": "stdout",
     "output_type": "stream",
     "text": [
      "My name is Krish and age is 32\n"
     ]
    }
   ],
   "source": [
    "## format() for printing complex sentences\n",
    "name=\"Krish\"\n",
    "age=32\n",
    "print(\"My name is {} and age is {}\".format(name,age))"
   ]
  },
  {
   "cell_type": "code",
   "execution_count": 6,
   "id": "65002980-1839-4181-ad97-aaefb8472508",
   "metadata": {},
   "outputs": [
    {
     "name": "stdout",
     "output_type": "stream",
     "text": [
      "My name is 32 and age is Krish\n"
     ]
    }
   ],
   "source": [
    "print(\"My name is {} and age is {}\".format(age,name))    ##ordering is very important"
   ]
  },
  {
   "cell_type": "code",
   "execution_count": 7,
   "id": "88dc15dc-ee55-459b-956d-342c3fdf3ce3",
   "metadata": {},
   "outputs": [
    {
     "name": "stdout",
     "output_type": "stream",
     "text": [
      "My name is Krish and age is 32\n"
     ]
    }
   ],
   "source": [
    "#Putting placeholder\n",
    "print(\"My name is {firstname} and age is {age}\".format(firstname=name,age=age))"
   ]
  },
  {
   "cell_type": "code",
   "execution_count": 9,
   "id": "441c3f42-f33d-4b38-b2d9-560f250f230b",
   "metadata": {},
   "outputs": [
    {
     "name": "stdout",
     "output_type": "stream",
     "text": [
      "My age is 32 and i have completed: my degree of B Tech with name of shabin\n"
     ]
    }
   ],
   "source": [
    "name=\"shabin\"\n",
    "age=32\n",
    "degree=\"B Tech\"\n",
    "## output: My age is 32 and i have completed: my degree of B Tech with name of shabin\n",
    "print(\"My age is {} and i have completed: my degree of {} with name of {}\".format(age,degree,name))"
   ]
  },
  {
   "cell_type": "markdown",
   "id": "7778cc33-cd7e-4aeb-a3da-123a9bf523ec",
   "metadata": {},
   "source": [
    "Control Flow& Decision Making statements"
   ]
  },
  {
   "cell_type": "code",
   "execution_count": 10,
   "id": "688df2bc-c325-4107-9a26-38134be5f7a8",
   "metadata": {},
   "outputs": [
    {
     "name": "stdin",
     "output_type": "stream",
     "text": [
      "Enter the name SHABIN\n"
     ]
    }
   ],
   "source": [
    "name=input(\"Enter the name\")"
   ]
  },
  {
   "cell_type": "code",
   "execution_count": 11,
   "id": "f0db3a20-e7f1-45b9-be7b-b2164fcc5dc4",
   "metadata": {},
   "outputs": [
    {
     "data": {
      "text/plain": [
       "'SHABIN'"
      ]
     },
     "execution_count": 11,
     "metadata": {},
     "output_type": "execute_result"
    }
   ],
   "source": [
    "name"
   ]
  },
  {
   "cell_type": "code",
   "execution_count": 12,
   "id": "aa7c6356-ddd0-4af0-83a6-566231f2bbee",
   "metadata": {},
   "outputs": [
    {
     "name": "stdin",
     "output_type": "stream",
     "text": [
      "Enter your age 25\n"
     ]
    }
   ],
   "source": [
    "##task\n",
    "age=int(input(\"Enter your age\"))"
   ]
  },
  {
   "cell_type": "code",
   "execution_count": 13,
   "id": "577f1d84-05b7-4e14-98b7-770e754462ab",
   "metadata": {},
   "outputs": [
    {
     "data": {
      "text/plain": [
       "25"
      ]
     },
     "execution_count": 13,
     "metadata": {},
     "output_type": "execute_result"
    }
   ],
   "source": [
    "age"
   ]
  },
  {
   "cell_type": "code",
   "execution_count": 15,
   "id": "9e974e6a-b636-4807-b5b7-8dac4ca5ea5b",
   "metadata": {},
   "outputs": [
    {
     "name": "stdout",
     "output_type": "stream",
     "text": [
      "You are young blood\n"
     ]
    }
   ],
   "source": [
    "if age>=18 & age<=45:\n",
    "    print(\"You are young blood\")"
   ]
  },
  {
   "cell_type": "code",
   "execution_count": 16,
   "id": "1d6d81a5-c6cb-4006-9ad1-18e2777d2b6f",
   "metadata": {},
   "outputs": [
    {
     "name": "stdin",
     "output_type": "stream",
     "text": [
      "Enter the Product price 10005\n"
     ]
    }
   ],
   "source": [
    "price=int(input(\"Enter the Product price\"))"
   ]
  },
  {
   "cell_type": "code",
   "execution_count": 24,
   "id": "a534bfef-5ff4-4c08-abf4-5419f006d212",
   "metadata": {},
   "outputs": [
    {
     "name": "stdout",
     "output_type": "stream",
     "text": [
      "Product price is8004.0\n"
     ]
    }
   ],
   "source": [
    "if price>1000:\n",
    "    print(\"Product price is{}\".format(price*0.8))\n",
    "else:\n",
    "    print(\"Product price is{}\".format(price*0.7))"
   ]
  },
  {
   "cell_type": "code",
   "execution_count": 25,
   "id": "7fd0dce9-5064-440a-a129-5ecc28f12f1f",
   "metadata": {},
   "outputs": [
    {
     "name": "stdout",
     "output_type": "stream",
     "text": [
      "Thankyou and visit again\n"
     ]
    }
   ],
   "source": [
    "if(price>1000):print(\"Thankyou and visit again\")"
   ]
  },
  {
   "cell_type": "code",
   "execution_count": 1,
   "id": "d124a64b-7e53-4934-be74-659d65e0fc11",
   "metadata": {},
   "outputs": [
    {
     "name": "stdout",
     "output_type": "stream",
     "text": [
      "26\n",
      "27\n",
      "28\n",
      "29\n",
      "30\n",
      "31\n",
      "32\n",
      "33\n",
      "34\n",
      "35\n",
      "36\n",
      "37\n",
      "38\n",
      "39\n",
      "40\n",
      "41\n",
      "42\n",
      "43\n",
      "44\n",
      "45\n",
      "46\n",
      "47\n",
      "48\n",
      "49\n",
      "50\n",
      "51\n",
      "52\n",
      "53\n",
      "54\n",
      "55\n",
      "56\n",
      "57\n",
      "58\n",
      "59\n",
      "60\n",
      "61\n",
      "Its timr for retirement\n"
     ]
    }
   ],
   "source": [
    "#while loop\n",
    "# kind of continuos iteration\n",
    "joining_age=25\n",
    "while joining_age<=60:\n",
    "    joining_age=joining_age+1\n",
    "    print(joining_age)\n",
    "else:\n",
    "    print(\"Its timr for retirement\")"
   ]
  },
  {
   "cell_type": "code",
   "execution_count": 6,
   "id": "1dee13f5-5739-4d72-ad8c-c00b2d11038f",
   "metadata": {},
   "outputs": [
    {
     "name": "stdout",
     "output_type": "stream",
     "text": [
      "1000\n",
      "900\n",
      "800\n",
      "700\n",
      "600\n",
      "500\n",
      "400\n",
      "300\n",
      "200\n",
      "100\n",
      "No Money\n"
     ]
    }
   ],
   "source": [
    "limit=1000\n",
    "while limit!=0:\n",
    "    print(limit)\n",
    "    limit=limit-100\n",
    "else:\n",
    "    print(\"No Money\")\n"
   ]
  },
  {
   "cell_type": "code",
   "execution_count": 8,
   "id": "e25f1a52-c888-4a1a-97be-9207af85f593",
   "metadata": {},
   "outputs": [
    {
     "name": "stdout",
     "output_type": "stream",
     "text": [
      "shabin\n",
      "1\n",
      "2\n",
      "3\n",
      "4\n",
      "apple\n",
      "bus\n"
     ]
    }
   ],
   "source": [
    "# For loop--iterating through the collection/list\n",
    "lst=['shabin',1,2,3,4,'apple','bus']\n",
    "\n",
    "for i in lst:\n",
    "    print(i)"
   ]
  },
  {
   "cell_type": "code",
   "execution_count": 9,
   "id": "f410c833-2161-48c2-aa98-368023ced0d9",
   "metadata": {},
   "outputs": [
    {
     "name": "stdout",
     "output_type": "stream",
     "text": [
      "s\n",
      "h\n",
      "a\n",
      "b\n",
      "i\n",
      "n\n"
     ]
    }
   ],
   "source": [
    "name='shabin'\n",
    "for i in name:\n",
    "    print(i)"
   ]
  },
  {
   "cell_type": "code",
   "execution_count": 12,
   "id": "7c7979ee-138b-4ec9-b0e3-7f6eec596df2",
   "metadata": {},
   "outputs": [
    {
     "name": "stdout",
     "output_type": "stream",
     "text": [
      "*\n",
      "**\n",
      "***\n",
      "****\n",
      "*****\n",
      "******\n",
      "*******\n"
     ]
    }
   ],
   "source": [
    "n=7\n",
    "for i in range(0,n):\n",
    "    for i in range(0,i+1):\n",
    "        print(\"*\", end=\"\")\n",
    "    print(\"\\r\")"
   ]
  },
  {
   "cell_type": "code",
   "execution_count": null,
   "id": "3a92ec63-ec3e-42f1-bb76-dbc0ef4c7710",
   "metadata": {},
   "outputs": [],
   "source": []
  }
 ],
 "metadata": {
  "kernelspec": {
   "display_name": "Python 3 (ipykernel)",
   "language": "python",
   "name": "python3"
  },
  "language_info": {
   "codemirror_mode": {
    "name": "ipython",
    "version": 3
   },
   "file_extension": ".py",
   "mimetype": "text/x-python",
   "name": "python",
   "nbconvert_exporter": "python",
   "pygments_lexer": "ipython3",
   "version": "3.10.8"
  }
 },
 "nbformat": 4,
 "nbformat_minor": 5
}
