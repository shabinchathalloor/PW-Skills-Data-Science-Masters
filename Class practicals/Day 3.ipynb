{
 "cells": [
  {
   "cell_type": "code",
   "execution_count": 1,
   "id": "cbe8569e-ee33-4131-9e3c-3ba1cbcc014f",
   "metadata": {},
   "outputs": [
    {
     "data": {
      "text/plain": [
       "False"
      ]
     },
     "execution_count": 1,
     "metadata": {},
     "output_type": "execute_result"
    }
   ],
   "source": [
    "bool(0)"
   ]
  },
  {
   "cell_type": "code",
   "execution_count": 2,
   "id": "d30537bd-b6e3-4932-881f-4a2c2070e805",
   "metadata": {},
   "outputs": [
    {
     "data": {
      "text/plain": [
       "True"
      ]
     },
     "execution_count": 2,
     "metadata": {},
     "output_type": "execute_result"
    }
   ],
   "source": [
    "bool(1)"
   ]
  },
  {
   "cell_type": "code",
   "execution_count": 3,
   "id": "4323fd40-4b98-44b5-9233-c1ed5ac10eca",
   "metadata": {},
   "outputs": [
    {
     "data": {
      "text/plain": [
       "True"
      ]
     },
     "execution_count": 3,
     "metadata": {},
     "output_type": "execute_result"
    }
   ],
   "source": [
    "bool(5)"
   ]
  },
  {
   "cell_type": "code",
   "execution_count": 4,
   "id": "e27925c5-4c72-4ce7-9e74-fdb15dc6dd9b",
   "metadata": {},
   "outputs": [
    {
     "data": {
      "text/plain": [
       "True"
      ]
     },
     "execution_count": 4,
     "metadata": {},
     "output_type": "execute_result"
    }
   ],
   "source": [
    "bool(-5)"
   ]
  },
  {
   "cell_type": "code",
   "execution_count": 5,
   "id": "b19ab91d-62b2-4ee1-ac53-ac698c640997",
   "metadata": {},
   "outputs": [
    {
     "data": {
      "text/plain": [
       "False"
      ]
     },
     "execution_count": 5,
     "metadata": {},
     "output_type": "execute_result"
    }
   ],
   "source": [
    "not(7)"
   ]
  },
  {
   "cell_type": "code",
   "execution_count": 6,
   "id": "010492f4-1fcc-4ffe-8858-2ae3d137d976",
   "metadata": {},
   "outputs": [
    {
     "data": {
      "text/plain": [
       "False"
      ]
     },
     "execution_count": 6,
     "metadata": {},
     "output_type": "execute_result"
    }
   ],
   "source": [
    "not(-7)"
   ]
  },
  {
   "cell_type": "code",
   "execution_count": 7,
   "id": "a3e864e1-ea36-4242-9d68-599172cf6953",
   "metadata": {},
   "outputs": [
    {
     "data": {
      "text/plain": [
       "True"
      ]
     },
     "execution_count": 7,
     "metadata": {},
     "output_type": "execute_result"
    }
   ],
   "source": [
    "bool(4.5)"
   ]
  },
  {
   "cell_type": "code",
   "execution_count": 8,
   "id": "90a09ccd-795b-4e63-9cf1-a8e47d63d2d9",
   "metadata": {},
   "outputs": [
    {
     "data": {
      "text/plain": [
       "True"
      ]
     },
     "execution_count": 8,
     "metadata": {},
     "output_type": "execute_result"
    }
   ],
   "source": [
    "bool(-8.5)"
   ]
  },
  {
   "cell_type": "code",
   "execution_count": 9,
   "id": "de810510-2377-4302-9048-f2e49feca795",
   "metadata": {},
   "outputs": [
    {
     "data": {
      "text/plain": [
       "0"
      ]
     },
     "execution_count": 9,
     "metadata": {},
     "output_type": "execute_result"
    }
   ],
   "source": [
    "True * False"
   ]
  },
  {
   "cell_type": "code",
   "execution_count": 10,
   "id": "e0233076-15f4-4d35-9301-b4aae0d0ed4f",
   "metadata": {},
   "outputs": [
    {
     "data": {
      "text/plain": [
       "1"
      ]
     },
     "execution_count": 10,
     "metadata": {},
     "output_type": "execute_result"
    }
   ],
   "source": [
    "True * True"
   ]
  },
  {
   "cell_type": "code",
   "execution_count": 11,
   "id": "66fa9f57-53f8-47ed-b0a2-376526262266",
   "metadata": {},
   "outputs": [
    {
     "data": {
      "text/plain": [
       "True"
      ]
     },
     "execution_count": 11,
     "metadata": {},
     "output_type": "execute_result"
    }
   ],
   "source": [
    "not(False) * True"
   ]
  },
  {
   "cell_type": "code",
   "execution_count": 12,
   "id": "1bcdc1ee-fcc6-4b88-9537-a39dff4fe317",
   "metadata": {},
   "outputs": [
    {
     "data": {
      "text/plain": [
       "0"
      ]
     },
     "execution_count": 12,
     "metadata": {},
     "output_type": "execute_result"
    }
   ],
   "source": [
    "False * (not(False))"
   ]
  },
  {
   "cell_type": "code",
   "execution_count": 13,
   "id": "c6669455-c9aa-484d-87f4-1a1b08d257c1",
   "metadata": {},
   "outputs": [
    {
     "data": {
      "text/plain": [
       "0"
      ]
     },
     "execution_count": 13,
     "metadata": {},
     "output_type": "execute_result"
    }
   ],
   "source": [
    "False * False"
   ]
  },
  {
   "cell_type": "code",
   "execution_count": 15,
   "id": "94f8de75-f222-4699-aa77-eb4063bcb349",
   "metadata": {},
   "outputs": [
    {
     "data": {
      "text/plain": [
       "False"
      ]
     },
     "execution_count": 15,
     "metadata": {},
     "output_type": "execute_result"
    }
   ],
   "source": [
    "not(True)"
   ]
  },
  {
   "cell_type": "markdown",
   "id": "e19c34b7-eab7-4367-a32d-318e0176456f",
   "metadata": {},
   "source": [
    "# Bitwise Operators"
   ]
  },
  {
   "cell_type": "code",
   "execution_count": 1,
   "id": "45ff5da4-b07d-423d-a10e-b5a925abfba9",
   "metadata": {},
   "outputs": [
    {
     "data": {
      "text/plain": [
       "'0b1010'"
      ]
     },
     "execution_count": 1,
     "metadata": {},
     "output_type": "execute_result"
    }
   ],
   "source": [
    "var=10\n",
    "bin(10)"
   ]
  },
  {
   "cell_type": "code",
   "execution_count": 2,
   "id": "5833a84a-f40f-40e3-9037-c5fdb37f1a6d",
   "metadata": {},
   "outputs": [
    {
     "data": {
      "text/plain": [
       "-11"
      ]
     },
     "execution_count": 2,
     "metadata": {},
     "output_type": "execute_result"
    }
   ],
   "source": [
    "~var"
   ]
  },
  {
   "cell_type": "code",
   "execution_count": 3,
   "id": "c8c1170f-8c11-4028-bbd7-ebbdc1f464dd",
   "metadata": {},
   "outputs": [
    {
     "data": {
      "text/plain": [
       "True"
      ]
     },
     "execution_count": 3,
     "metadata": {},
     "output_type": "execute_result"
    }
   ],
   "source": [
    "True | False"
   ]
  },
  {
   "cell_type": "code",
   "execution_count": 4,
   "id": "b715c041-cee0-465d-8c3f-a5660911db02",
   "metadata": {},
   "outputs": [
    {
     "data": {
      "text/plain": [
       "False"
      ]
     },
     "execution_count": 4,
     "metadata": {},
     "output_type": "execute_result"
    }
   ],
   "source": [
    "False & False"
   ]
  },
  {
   "cell_type": "code",
   "execution_count": 5,
   "id": "fb10c957-9c8d-45a5-88b0-68dc0b8873cf",
   "metadata": {},
   "outputs": [
    {
     "data": {
      "text/plain": [
       "5"
      ]
     },
     "execution_count": 5,
     "metadata": {},
     "output_type": "execute_result"
    }
   ],
   "source": [
    "var >> 1"
   ]
  },
  {
   "cell_type": "code",
   "execution_count": 6,
   "id": "67fefdcf-38fa-422d-b548-cb258fcd3d11",
   "metadata": {},
   "outputs": [
    {
     "data": {
      "text/plain": [
       "20"
      ]
     },
     "execution_count": 6,
     "metadata": {},
     "output_type": "execute_result"
    }
   ],
   "source": [
    "var<<1"
   ]
  },
  {
   "cell_type": "code",
   "execution_count": 1,
   "id": "856fd6d2-c769-4cf4-a19c-5024d37d6b5b",
   "metadata": {},
   "outputs": [],
   "source": [
    "course_name=\"Data Science Masters\""
   ]
  },
  {
   "cell_type": "code",
   "execution_count": 2,
   "id": "6065ab96-5eac-4dfc-ac59-57efa36577e9",
   "metadata": {},
   "outputs": [
    {
     "data": {
      "text/plain": [
       "' Science'"
      ]
     },
     "execution_count": 2,
     "metadata": {},
     "output_type": "execute_result"
    }
   ],
   "source": [
    "course_name[4:12]"
   ]
  },
  {
   "cell_type": "code",
   "execution_count": 5,
   "id": "a67d0549-eccd-4dcd-b1d8-26d5d29a7b26",
   "metadata": {},
   "outputs": [
    {
     "data": {
      "text/plain": [
       "'ecneicS'"
      ]
     },
     "execution_count": 5,
     "metadata": {},
     "output_type": "execute_result"
    }
   ],
   "source": [
    "course_name[11:4:-1]"
   ]
  },
  {
   "cell_type": "code",
   "execution_count": null,
   "id": "8a21eecd-b107-4673-a251-cb7f8dbde73e",
   "metadata": {},
   "outputs": [],
   "source": []
  }
 ],
 "metadata": {
  "kernelspec": {
   "display_name": "Python 3 (ipykernel)",
   "language": "python",
   "name": "python3"
  },
  "language_info": {
   "codemirror_mode": {
    "name": "ipython",
    "version": 3
   },
   "file_extension": ".py",
   "mimetype": "text/x-python",
   "name": "python",
   "nbconvert_exporter": "python",
   "pygments_lexer": "ipython3",
   "version": "3.10.8"
  }
 },
 "nbformat": 4,
 "nbformat_minor": 5
}
